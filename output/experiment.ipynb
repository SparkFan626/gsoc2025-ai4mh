{
 "cells": [
  {
   "cell_type": "code",
   "execution_count": 1,
   "metadata": {},
   "outputs": [
    {
     "data": {
      "text/html": [
       "<div>\n",
       "<style scoped>\n",
       "    .dataframe tbody tr th:only-of-type {\n",
       "        vertical-align: middle;\n",
       "    }\n",
       "\n",
       "    .dataframe tbody tr th {\n",
       "        vertical-align: top;\n",
       "    }\n",
       "\n",
       "    .dataframe thead th {\n",
       "        text-align: right;\n",
       "    }\n",
       "</style>\n",
       "<table border=\"1\" class=\"dataframe\">\n",
       "  <thead>\n",
       "    <tr style=\"text-align: right;\">\n",
       "      <th></th>\n",
       "      <th>id</th>\n",
       "      <th>timestamp</th>\n",
       "      <th>subreddit</th>\n",
       "      <th>cleaned_text</th>\n",
       "      <th>upvotes</th>\n",
       "      <th>comments</th>\n",
       "      <th>url</th>\n",
       "    </tr>\n",
       "  </thead>\n",
       "  <tbody>\n",
       "    <tr>\n",
       "      <th>0</th>\n",
       "      <td>doqwow</td>\n",
       "      <td>1.572361e+09</td>\n",
       "      <td>depression</td>\n",
       "      <td>mostbroken leastunderstood rules helpers may i...</td>\n",
       "      <td>2366</td>\n",
       "      <td>177</td>\n",
       "      <td>https://www.reddit.com/r/depression/comments/d...</td>\n",
       "    </tr>\n",
       "    <tr>\n",
       "      <th>1</th>\n",
       "      <td>1lfgnxr</td>\n",
       "      <td>1.750354e+09</td>\n",
       "      <td>depression</td>\n",
       "      <td>even depression seeing reality clearly world f...</td>\n",
       "      <td>32</td>\n",
       "      <td>12</td>\n",
       "      <td>https://www.reddit.com/r/depression/comments/1...</td>\n",
       "    </tr>\n",
       "    <tr>\n",
       "      <th>2</th>\n",
       "      <td>1lfirj8</td>\n",
       "      <td>1.750359e+09</td>\n",
       "      <td>depression</td>\n",
       "      <td>clear sign person struggling depression someon...</td>\n",
       "      <td>18</td>\n",
       "      <td>14</td>\n",
       "      <td>https://www.reddit.com/r/depression/comments/1...</td>\n",
       "    </tr>\n",
       "    <tr>\n",
       "      <th>3</th>\n",
       "      <td>1lfkhld</td>\n",
       "      <td>1.750363e+09</td>\n",
       "      <td>depression</td>\n",
       "      <td>dumb make depressed envy smart people intellig...</td>\n",
       "      <td>6</td>\n",
       "      <td>7</td>\n",
       "      <td>https://www.reddit.com/r/depression/comments/1...</td>\n",
       "    </tr>\n",
       "    <tr>\n",
       "      <th>4</th>\n",
       "      <td>1lfjihf</td>\n",
       "      <td>1.750361e+09</td>\n",
       "      <td>depression</td>\n",
       "      <td>feels like im existing living ive struggled ma...</td>\n",
       "      <td>6</td>\n",
       "      <td>0</td>\n",
       "      <td>https://www.reddit.com/r/depression/comments/1...</td>\n",
       "    </tr>\n",
       "  </tbody>\n",
       "</table>\n",
       "</div>"
      ],
      "text/plain": [
       "        id     timestamp   subreddit  \\\n",
       "0   doqwow  1.572361e+09  depression   \n",
       "1  1lfgnxr  1.750354e+09  depression   \n",
       "2  1lfirj8  1.750359e+09  depression   \n",
       "3  1lfkhld  1.750363e+09  depression   \n",
       "4  1lfjihf  1.750361e+09  depression   \n",
       "\n",
       "                                        cleaned_text  upvotes  comments  \\\n",
       "0  mostbroken leastunderstood rules helpers may i...     2366       177   \n",
       "1  even depression seeing reality clearly world f...       32        12   \n",
       "2  clear sign person struggling depression someon...       18        14   \n",
       "3  dumb make depressed envy smart people intellig...        6         7   \n",
       "4  feels like im existing living ive struggled ma...        6         0   \n",
       "\n",
       "                                                 url  \n",
       "0  https://www.reddit.com/r/depression/comments/d...  \n",
       "1  https://www.reddit.com/r/depression/comments/1...  \n",
       "2  https://www.reddit.com/r/depression/comments/1...  \n",
       "3  https://www.reddit.com/r/depression/comments/1...  \n",
       "4  https://www.reddit.com/r/depression/comments/1...  "
      ]
     },
     "execution_count": 1,
     "metadata": {},
     "output_type": "execute_result"
    }
   ],
   "source": [
    "import pandas as pd\n",
    "import matplotlib.pyplot as plt\n",
    "\n",
    "df = pd.read_csv(\"filtered_reddit_posts.csv\")\n",
    "\n",
    "df.head()\n"
   ]
  },
  {
   "cell_type": "code",
   "execution_count": 2,
   "metadata": {},
   "outputs": [
    {
     "name": "stdout",
     "output_type": "stream",
     "text": [
      "<class 'pandas.core.frame.DataFrame'>\n",
      "RangeIndex: 539 entries, 0 to 538\n",
      "Data columns (total 7 columns):\n",
      " #   Column        Non-Null Count  Dtype  \n",
      "---  ------        --------------  -----  \n",
      " 0   id            539 non-null    object \n",
      " 1   timestamp     539 non-null    float64\n",
      " 2   subreddit     539 non-null    object \n",
      " 3   cleaned_text  539 non-null    object \n",
      " 4   upvotes       539 non-null    int64  \n",
      " 5   comments      539 non-null    int64  \n",
      " 6   url           539 non-null    object \n",
      "dtypes: float64(1), int64(2), object(4)\n",
      "memory usage: 29.6+ KB\n",
      "None\n",
      "          timestamp      upvotes    comments\n",
      "count  5.390000e+02   539.000000  539.000000\n",
      "mean   1.740617e+09    36.732839    7.424861\n",
      "std    3.144008e+07   358.768473   26.665619\n",
      "min    1.521349e+09     0.000000    0.000000\n",
      "25%    1.749835e+09     1.000000    1.000000\n",
      "50%    1.750285e+09     3.000000    2.000000\n",
      "75%    1.750343e+09     6.000000    5.000000\n",
      "max    1.750365e+09  7489.000000  422.000000\n"
     ]
    }
   ],
   "source": [
    "# 1. Basic overview of the dataset\n",
    "print(df.info())           # Check data types and missing values\n",
    "print(df.describe())       # Get summary statistics for numeric columns"
   ]
  },
  {
   "cell_type": "code",
   "execution_count": 3,
   "metadata": {},
   "outputs": [
    {
     "name": "stdout",
     "output_type": "stream",
     "text": [
      "Start date: 2018-03-18 04:57:56\n",
      "End date: 2025-06-19 20:30:03\n"
     ]
    },
    {
     "data": {
      "image/png": "[encoded data removed]",
      "text/plain": [
       "<Figure size 1000x400 with 1 Axes>"
      ]
     },
     "metadata": {},
     "output_type": "display_data"
    }
   ],
   "source": [
    "# 2. Analyze timestamp range and convert to readable datetime format\n",
    "df['date'] = pd.to_datetime(df['timestamp'], unit='s')  # Convert Unix timestamp to datetime\n",
    "print(f\"Start date: {df['date'].min()}\")                # Earliest post\n",
    "print(f\"End date: {df['date'].max()}\")       \n",
    "\n",
    "# Plot the number of posts per month\n",
    "df['month'] = df['date'].dt.to_period('M')              # Extract year-month period\n",
    "df['month'].value_counts().sort_index().plot(\n",
    "    kind='bar', figsize=(10,4), title='Monthly Post Count'\n",
    ")\n",
    "plt.tight_layout()\n",
    "plt.show()           # Latest post"
   ]
  },
  {
   "cell_type": "code",
   "execution_count": 4,
   "metadata": {},
   "outputs": [
    {
     "data": {
      "image/png": "[encoded data removed]",
      "text/plain": [
       "<Figure size 640x480 with 1 Axes>"
      ]
     },
     "metadata": {},
     "output_type": "display_data"
    }
   ],
   "source": [
    "# 3. Analyze text length (number of words in each post)\n",
    "df['text_length'] = df['cleaned_text'].apply(lambda x: len(str(x).split()))  # Count words\n",
    "df['text_length'].hist(bins=30)                                              # Histogram\n",
    "plt.title(\"Text Length Distribution\")\n",
    "plt.xlabel(\"Number of Words\")\n",
    "plt.ylabel(\"Number of Posts\")\n",
    "plt.show()"
   ]
  },
  {
   "cell_type": "code",
   "execution_count": 5,
   "metadata": {},
   "outputs": [
    {
     "name": "stdout",
     "output_type": "stream",
     "text": [
      "           upvotes    comments\n",
      "count   539.000000  539.000000\n",
      "mean     36.732839    7.424861\n",
      "std     358.768473   26.665619\n",
      "min       0.000000    0.000000\n",
      "25%       1.000000    1.000000\n",
      "50%       3.000000    2.000000\n",
      "75%       6.000000    5.000000\n",
      "max    7489.000000  422.000000\n"
     ]
    }
   ],
   "source": [
    "# 4. Analyze distribution of upvotes and comments\n",
    "print(df[['upvotes', 'comments']].describe())  # Summary stats for engagement metrics"
   ]
  }
 ],
 "metadata": {
  "kernelspec": {
   "display_name": "Python 3",
   "language": "python",
   "name": "python3"
  },
  "language_info": {
   "codemirror_mode": {
    "name": "ipython",
    "version": 3
   },
   "file_extension": ".py",
   "mimetype": "text/x-python",
   "name": "python",
   "nbconvert_exporter": "python",
   "pygments_lexer": "ipython3",
   "version": "3.10.11"
  }
 },
 "nbformat": 4,
 "nbformat_minor": 2
}
